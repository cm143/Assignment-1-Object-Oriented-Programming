{
 "cells": [
  {
   "cell_type": "code",
   "execution_count": null,
   "id": "39fa20ee-7d1e-40ad-a826-016fadf0556e",
   "metadata": {},
   "outputs": [],
   "source": [
    "class Car:\n",
    "    Manufacturer: str\n",
    "    Model: str\n",
    "    Year: int\n",
    "    Mileage: int\n",
    "    Engine: str\n",
    "    Transmission: str\n",
    "    Drivetrain: str\n",
    "    Mpg: int or str\n",
    "    ExtColor: str\n",
    "    IntColor: str\n",
    "    Accident: bool\n",
    "    Price: int\n",
    "    \n",
    "    def __init__(self, Manufacturer, Model, Year, Mileage, Engine, Transmission, Drivetrain, Mpg, ExtColor, IntColor, Accident, Price):\n",
    "       \n",
    "class Seller:\n",
    "    Name: str\n",
    "    Rating: int\n",
    "    Inventory: int\n",
    "    \n",
    "    def __init__(self, Name, Rating, Inventory):\n",
    "        "
   ]
  }
 ],
 "metadata": {
  "kernelspec": {
   "display_name": "Python 3 (ipykernel)",
   "language": "python",
   "name": "python3"
  },
  "language_info": {
   "codemirror_mode": {
    "name": "ipython",
    "version": 3
   },
   "file_extension": ".py",
   "mimetype": "text/x-python",
   "name": "python",
   "nbconvert_exporter": "python",
   "pygments_lexer": "ipython3",
   "version": "3.11.5"
  }
 },
 "nbformat": 4,
 "nbformat_minor": 5
}
